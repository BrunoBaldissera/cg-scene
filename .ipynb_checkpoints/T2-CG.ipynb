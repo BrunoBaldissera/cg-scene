{
 "cells": [
  {
   "cell_type": "markdown",
   "metadata": {},
   "source": [
    "# Trabalho 2 - CG\n",
    "\n",
    "### Bruno Baldissera Carlotto 10724351<br>Bruno Gazoni 7585037<br>Rafael Ceneme 9898610"
   ]
  },
  {
   "cell_type": "markdown",
   "metadata": {},
   "source": [
    "### Primeiro, vamos importar as bibliotecas necessárias.\n",
    "Verifique no código anterior um script para instalar as dependências necessárias (OpenGL e GLFW) antes de prosseguir."
   ]
  },
  {
   "cell_type": "code",
   "execution_count": 1,
   "metadata": {},
   "outputs": [
    {
     "name": "stdout",
     "output_type": "stream",
     "text": [
      "Requirement already satisfied: PyGLM==1.1.8 in /home/bozzera/anaconda3/lib/python3.8/site-packages (1.1.8)\r\n"
     ]
    }
   ],
   "source": [
    "!pip install PyGLM==1.1.8"
   ]
  },
  {
   "cell_type": "code",
   "execution_count": 2,
   "metadata": {},
   "outputs": [],
   "source": [
    "import glfw\n",
    "from OpenGL.GL import *\n",
    "import OpenGL.GL.shaders\n",
    "import numpy as np\n",
    "import glm\n",
    "import math\n",
    "from PIL import Image"
   ]
  },
  {
   "cell_type": "markdown",
   "metadata": {},
   "source": [
    "### Inicializando janela"
   ]
  },
  {
   "cell_type": "code",
   "execution_count": 3,
   "metadata": {},
   "outputs": [],
   "source": [
    "glfw.init()\n",
    "glfw.window_hint(glfw.VISIBLE, glfw.TRUE);\n",
    "glfw.window_hint(glfw.RESIZABLE, glfw.TRUE);\n",
    "glfw.window_hint(glfw.CENTER_CURSOR, glfw.TRUE);\n",
    "#glfw.window_hint(glfw.VISIBLE, glfw.TRUE,glfw.CENTER_CURSOR);\n",
    "largura = 1600\n",
    "altura = 900\n",
    "window = glfw.create_window(largura, altura, \"Crônicas de Argustav\", glfw.get_primary_monitor(), None)\n",
    "glfw.make_context_current(window)\n",
    "\n",
    "glfw.set_input_mode(window, glfw.CURSOR, glfw.CURSOR_DISABLED);"
   ]
  },
  {
   "cell_type": "markdown",
   "metadata": {},
   "source": [
    "### GLSL (OpenGL Shading Language)\n",
    "\n",
    "Aqui veremos nosso primeiro código GLSL.\n",
    "\n",
    "É uma linguagem de shading de alto nível baseada na linguagem de programação C.\n",
    "\n",
    "Nós estamos escrevendo código GLSL como se \"strings\" de uma variável (mas podemos ler de arquivos texto). Esse código, depois, terá que ser compilado e linkado ao nosso programa. \n",
    "\n",
    "Iremos aprender GLSL conforme a necessidade do curso. Usarmos uma versão do GLSL mais antiga, compatível com muitos dispositivos."
   ]
  },
  {
   "cell_type": "markdown",
   "metadata": {},
   "source": [
    "### GLSL para Vertex Shader\n",
    "\n",
    "No Pipeline programável, podemos interagir com Vertex Shaders.\n",
    "\n",
    "No código abaixo, estamos fazendo o seguinte:\n",
    "\n",
    "* Definindo uma variável chamada position do tipo vec3.\n",
    "* Definindo matrizes Model, View e Projection que acumulam transformações geométricas 3D e permitem navegação no cenário.\n",
    "* void main() é o ponto de entrada do nosso programa (função principal)\n",
    "* gl_Position é uma variável especial do GLSL. Variáveis que começam com 'gl_' são desse tipo. Nesse caso, determina a posição de um vértice. Observe que todo vértice tem 4 coordenadas, por isso nós combinamos nossa variável vec2 com uma variável vec4. Além disso, nós modificamos nosso vetor com base nas transformações Model, View e Projection."
   ]
  },
  {
   "cell_type": "code",
   "execution_count": 4,
   "metadata": {},
   "outputs": [],
   "source": [
    "vertex_code = \"\"\"\n",
    "        attribute vec3 position;\n",
    "        attribute vec2 texture_coord;\n",
    "        attribute vec3 normals;\n",
    "        \n",
    "       \n",
    "        varying vec2 out_texture;\n",
    "        varying vec3 out_fragPos;\n",
    "        varying vec3 out_normal;\n",
    "                \n",
    "        uniform mat4 model;\n",
    "        uniform mat4 view;\n",
    "        uniform mat4 projection;        \n",
    "        \n",
    "        void main(){\n",
    "            gl_Position = projection * view * model * vec4(position,1.0);\n",
    "            out_texture = vec2(texture_coord);\n",
    "            out_fragPos = vec3(model * vec4(position, 1.0));\n",
    "            out_normal = normals;            \n",
    "        }\n",
    "        \"\"\""
   ]
  },
  {
   "cell_type": "markdown",
   "metadata": {},
   "source": [
    "### GLSL para Fragment Shader\n",
    "\n",
    "No Pipeline programável, podemos interagir com Fragment Shaders.\n",
    "\n",
    "No código abaixo, estamos fazendo o seguinte:\n",
    "\n",
    "* void main() é o ponto de entrada do nosso programa (função principal)\n",
    "* gl_FragColor é uma variável especial do GLSL. Variáveis que começam com 'gl_' são desse tipo. Nesse caso, determina a cor de um fragmento. Nesse caso é um ponto, mas poderia ser outro objeto (ponto, linha, triangulos, etc)."
   ]
  },
  {
   "cell_type": "markdown",
   "metadata": {},
   "source": [
    "### Possibilitando modificar a cor.\n",
    "\n",
    "Nos exemplos anteriores, a variável gl_FragColor estava definida de forma fixa (com cor R=0, G=0, B=0).\n",
    "\n",
    "Agora, nós vamos criar uma variável do tipo \"uniform\", de quatro posições (vec4), para receber o dado de cor do nosso programa rodando em CPU."
   ]
  },
  {
   "cell_type": "code",
   "execution_count": 5,
   "metadata": {},
   "outputs": [],
   "source": [
    "fragment_code = \"\"\"\n",
    "        // parametros da iluminacao ambiente e difusa\n",
    "        uniform vec3 lightPos; // define coordenadas de posicao da luz #1\n",
    "        uniform float ka; // coeficiente de reflexao ambiente\n",
    "        uniform float kd; // coeficiente de reflexao difusa\n",
    "        uniform float ki; // coeficiente de reflexao difusa\n",
    "        uniform float ke; // coeficiente de reflexao difusa\n",
    "        \n",
    "        // parametros da iluminacao especular\n",
    "        uniform vec3 viewPos; // define coordenadas com a posicao da camera/observador\n",
    "        uniform float ks; // coeficiente de reflexao especular\n",
    "        uniform float ns; // expoente de reflexao especular\n",
    "        \n",
    "        // parametro com a cor da(s) fonte(s) de iluminacao\n",
    "        vec3 lightColor = vec3(1.0, 1.0, 1.0);\n",
    "\n",
    "        // parametros recebidos do vertex shader\n",
    "        varying vec2 out_texture; // recebido do vertex shader\n",
    "        varying vec3 out_normal; // recebido do vertex shader\n",
    "        varying vec3 out_fragPos; // recebido do vertex shader\n",
    "        uniform sampler2D samplerTexture;\n",
    "        \n",
    "        void main(){\n",
    "            // calculando reflexao ambiente\n",
    "            vec3 ambient = ka * lightColor;             \n",
    "            \n",
    "            \n",
    "            ////////////////////////\n",
    "            // Luz Solar\n",
    "            ////////////////////////\n",
    "            \n",
    "            // calculando reflexao difusa\n",
    "            vec3 norm = normalize(out_normal); // normaliza vetores perpendiculares\n",
    "            vec3 lightDir = normalize(lightPos - out_fragPos); // direcao da luz\n",
    "            float diff = max(dot(norm, lightDir), 0.0); // verifica limite angular (entre 0 e 90)\n",
    "            vec3 diffuse = ke * kd * diff * lightColor; // iluminacao difusa\n",
    "            \n",
    "            // calculando reflexao especular\n",
    "            vec3 viewDir = normalize(viewPos - out_fragPos); // direcao do observador/camera\n",
    "            vec3 reflectDir = reflect(-lightDir, norm); // direcao da reflexao\n",
    "            float spec = pow(max(dot(viewDir, reflectDir), 0.0), ns);\n",
    "            vec3 specular = ke * ks * spec * lightColor;    \n",
    "            \n",
    "            ////////////////////////\n",
    "            // Combinando as duas fontes\n",
    "            ////////////////////////\n",
    "            \n",
    "            // aplicando o modelo de iluminacao\n",
    "            vec4 texture = texture2D(samplerTexture, out_texture);\n",
    "            vec4 result = vec4((ambient + diffuse + specular),1.0) * texture; // aplica iluminacao\n",
    "            gl_FragColor = result;\n",
    "\n",
    "        }\n",
    "        \"\"\""
   ]
  },
  {
   "cell_type": "markdown",
   "metadata": {},
   "source": [
    "### Requisitando slot para a GPU para nossos programas Vertex e Fragment Shaders"
   ]
  },
  {
   "cell_type": "code",
   "execution_count": 6,
   "metadata": {},
   "outputs": [],
   "source": [
    "# Request a program and shader slots from GPU\n",
    "program  = glCreateProgram()\n",
    "vertex   = glCreateShader(GL_VERTEX_SHADER)\n",
    "fragment = glCreateShader(GL_FRAGMENT_SHADER)"
   ]
  },
  {
   "cell_type": "markdown",
   "metadata": {},
   "source": [
    "### Associando nosso código-fonte aos slots solicitados"
   ]
  },
  {
   "cell_type": "code",
   "execution_count": 7,
   "metadata": {},
   "outputs": [],
   "source": [
    "# Set shaders source\n",
    "glShaderSource(vertex, vertex_code)\n",
    "glShaderSource(fragment, fragment_code)"
   ]
  },
  {
   "cell_type": "markdown",
   "metadata": {},
   "source": [
    "### Compilando o Vertex Shader\n",
    "\n",
    "Se há algum erro em nosso programa Vertex Shader, nosso app para por aqui."
   ]
  },
  {
   "cell_type": "code",
   "execution_count": 8,
   "metadata": {},
   "outputs": [],
   "source": [
    "# Compile shaders\n",
    "glCompileShader(vertex)\n",
    "if not glGetShaderiv(vertex, GL_COMPILE_STATUS):\n",
    "    error = glGetShaderInfoLog(vertex).decode()\n",
    "    print(error)\n",
    "    raise RuntimeError(\"Erro de compilacao do Vertex Shader\")\n"
   ]
  },
  {
   "cell_type": "markdown",
   "metadata": {},
   "source": [
    "### Compilando o Fragment Shader\n",
    "\n",
    "Se há algum erro em nosso programa Fragment Shader, nosso app para por aqui."
   ]
  },
  {
   "cell_type": "code",
   "execution_count": 9,
   "metadata": {},
   "outputs": [],
   "source": [
    "glCompileShader(fragment)\n",
    "if not glGetShaderiv(fragment, GL_COMPILE_STATUS):\n",
    "    error = glGetShaderInfoLog(fragment).decode()\n",
    "    print(error)\n",
    "    raise RuntimeError(\"Erro de compilacao do Fragment Shader\")"
   ]
  },
  {
   "cell_type": "markdown",
   "metadata": {},
   "source": [
    "### Associando os programas compilado ao programa principal"
   ]
  },
  {
   "cell_type": "code",
   "execution_count": 10,
   "metadata": {},
   "outputs": [],
   "source": [
    "# Attach shader objects to the program\n",
    "glAttachShader(program, vertex)\n",
    "glAttachShader(program, fragment)\n"
   ]
  },
  {
   "cell_type": "markdown",
   "metadata": {},
   "source": [
    "### Linkagem do programa"
   ]
  },
  {
   "cell_type": "code",
   "execution_count": 11,
   "metadata": {},
   "outputs": [],
   "source": [
    "# Build program\n",
    "glLinkProgram(program)\n",
    "if not glGetProgramiv(program, GL_LINK_STATUS):\n",
    "    print(glGetProgramInfoLog(program))\n",
    "    raise RuntimeError('Linking error')\n",
    "    \n",
    "# Make program the default program\n",
    "glUseProgram(program)"
   ]
  },
  {
   "cell_type": "markdown",
   "metadata": {},
   "source": [
    "### Preparando dados para enviar a GPU\n",
    "\n",
    "Nesse momento, nós compilamos nossos Vertex e Program Shaders para que a GPU possa processá-los.\n",
    "\n",
    "Por outro lado, as informações de vértices geralmente estão na CPU e devem ser transmitidas para a GPU.\n"
   ]
  },
  {
   "cell_type": "markdown",
   "metadata": {},
   "source": [
    "### Carregando Modelos (vértices e texturas) a partir de Arquivos\n",
    "\n",
    "A função abaixo carrega modelos a partir de arquivos no formato WaveFront.\n",
    "\n",
    "\n",
    "Para saber mais sobre o modelo, acesse: https://en.wikipedia.org/wiki/Wavefront_.obj_file\n",
    "\n",
    "\n",
    "Nos slides e vídeo-aula da Aula 11 - Parte 1, nós descrevemos o funcionamento desse formato."
   ]
  },
  {
   "cell_type": "code",
   "execution_count": 12,
   "metadata": {},
   "outputs": [],
   "source": [
    "def load_model_from_file(filename):\n",
    "    \"\"\"Loads a Wavefront OBJ file. \"\"\"\n",
    "    objects = {}\n",
    "    vertices = []\n",
    "    normals = []\n",
    "    texture_coords = []\n",
    "    faces = []\n",
    "\n",
    "    material = None\n",
    "\n",
    "    # abre o arquivo obj para leitura\n",
    "    for line in open(filename, \"r\"): ## para cada linha do arquivo .obj\n",
    "        if line.startswith('#'): continue ## ignora comentarios\n",
    "        values = line.split() # quebra a linha por espaço\n",
    "        if not values: continue\n",
    "\n",
    "        ### recuperando vertices\n",
    "        if values[0] == 'v':\n",
    "            vertices.append(values[1:4])\n",
    "\n",
    "        ### recuperando vertices\n",
    "        if values[0] == 'vn':\n",
    "            normals.append(values[1:4])\n",
    "\n",
    "        ### recuperando coordenadas de textura\n",
    "        elif values[0] == 'vt':\n",
    "            texture_coords.append(values[1:3])\n",
    "\n",
    "        ### recuperando faces \n",
    "        elif values[0] in ('usemtl', 'usemat'):\n",
    "            material = values[1]\n",
    "        elif values[0] == 'f':\n",
    "            face = []\n",
    "            face_texture = []\n",
    "            face_normals = []\n",
    "            for v in values[1:]:\n",
    "                w = v.split('/')\n",
    "                face.append(int(w[0]))\n",
    "                face_normals.append(int(w[2]))\n",
    "                if len(w) >= 2 and len(w[1]) > 0:\n",
    "                    face_texture.append(int(w[1]))\n",
    "                else:\n",
    "                    face_texture.append(0)\n",
    "\n",
    "            faces.append((face, face_texture, face_normals, material))\n",
    "\n",
    "    model = {}\n",
    "    model['vertices'] = vertices\n",
    "    model['texture'] = texture_coords\n",
    "    model['faces'] = faces\n",
    "    model['normals'] = normals\n",
    "\n",
    "    return model"
   ]
  },
  {
   "cell_type": "code",
   "execution_count": 13,
   "metadata": {},
   "outputs": [],
   "source": [
    "glHint(GL_LINE_SMOOTH_HINT, GL_DONT_CARE)\n",
    "glEnable( GL_BLEND )\n",
    "glBlendFunc( GL_SRC_ALPHA, GL_ONE_MINUS_SRC_ALPHA )\n",
    "glEnable(GL_LINE_SMOOTH)\n",
    "glEnable(GL_TEXTURE_2D)\n",
    "qtd_texturas = 25\n",
    "textures = glGenTextures(qtd_texturas)\n",
    "def load_texture_from_file(texture_id, img_textura):\n",
    "    glBindTexture(GL_TEXTURE_2D, texture_id)\n",
    "    glTexParameteri(GL_TEXTURE_2D, GL_TEXTURE_WRAP_S, GL_REPEAT)\n",
    "    glTexParameteri(GL_TEXTURE_2D, GL_TEXTURE_WRAP_T, GL_REPEAT)\n",
    "    glTexParameteri(GL_TEXTURE_2D, GL_TEXTURE_MIN_FILTER, GL_LINEAR)\n",
    "    glTexParameteri(GL_TEXTURE_2D, GL_TEXTURE_MAG_FILTER, GL_LINEAR)\n",
    "    img = Image.open(img_textura)\n",
    "    #print(img_textura,img.mode)\n",
    "    img_width = img.size[0]\n",
    "    img_height = img.size[1]\n",
    "    #image_data = img.tobytes(\"raw\", \"RGB\", 0, -1)\n",
    "    image_data = img.convert(\"RGBA\").tobytes(\"raw\", \"RGBA\",0,-1)\n",
    "\n",
    "    #image_data = np.array(list(img.getdata()), np.uint8)\n",
    "    glTexImage2D(GL_TEXTURE_2D, 0, GL_RGBA, img_width, img_height, 0, GL_RGBA, GL_UNSIGNED_BYTE, image_data)"
   ]
  },
  {
   "cell_type": "markdown",
   "metadata": {},
   "source": [
    "### A lista abaixo armazena todos os vertices carregados dos arquivos"
   ]
  },
  {
   "cell_type": "code",
   "execution_count": 14,
   "metadata": {},
   "outputs": [],
   "source": [
    "vertices_list = []    \n",
    "normals_list = []    \n",
    "textures_coord_list = []"
   ]
  },
  {
   "cell_type": "markdown",
   "metadata": {},
   "source": [
    "### Vamos carregar cada modelo e definir funções para desenhá-los"
   ]
  },
  {
   "cell_type": "markdown",
   "metadata": {},
   "source": [
    "## Modelo da igreja"
   ]
  },
  {
   "cell_type": "code",
   "execution_count": 15,
   "metadata": {},
   "outputs": [
    {
     "name": "stdout",
     "output_type": "stream",
     "text": [
      "Processando modelo iglesia.obj. Vertice inicial: 0\n",
      "pared_de_piedra vertice inicial: 0\n",
      "hiero_negro vertice inicial: 16563\n",
      "tejado_roñoso vertice inicial: 17175\n",
      "piedra_de_la_portada vertice inicial: 18834\n",
      "Material.001 vertice inicial: 21195\n",
      "Material.019 vertice inicial: 21231\n",
      "Material.020 vertice inicial: 21267\n",
      "Material.021 vertice inicial: 21303\n",
      "Processando modelo iglesia.obj. Vertice final: 21339\n"
     ]
    }
   ],
   "source": [
    "modelo = load_model_from_file('igreja/iglesia.obj')\n",
    "\n",
    "### inserindo vertices do modelo no vetor de vertices\n",
    "print('Processando modelo iglesia.obj. Vertice inicial:',len(vertices_list))\n",
    "materials = []\n",
    "for face in modelo['faces']:\n",
    "    if face[3] not in materials:\n",
    "        print(face[3], \"vertice inicial:\", len(vertices_list))\n",
    "    materials.append(face[3])\n",
    "    for vertice_id in face[0]:\n",
    "        vertices_list.append(modelo['vertices'][vertice_id-1])\n",
    "    for texture_id in face[1]:\n",
    "        textures_coord_list.append(modelo['texture'][texture_id-1] )\n",
    "print('Processando modelo iglesia.obj. Vertice final:',len(vertices_list))\n",
    "\n",
    "### inserindo coordenadas de textura do modelo no vetor de texturas\n",
    "\n",
    "### carregando textura equivalente e definindo um id (buffer): use um id por textura!\n",
    "load_texture_from_file(0,'igreja/textures/telhado.jpg')\n",
    "load_texture_from_file(1,'igreja/textures/pedra.jpg')\n",
    "load_texture_from_file(2,'bushtex.jpg')"
   ]
  },
  {
   "cell_type": "markdown",
   "metadata": {},
   "source": [
    "## Modelo do piso da igreja"
   ]
  },
  {
   "cell_type": "code",
   "execution_count": 16,
   "metadata": {},
   "outputs": [
    {
     "name": "stdout",
     "output_type": "stream",
     "text": [
      "Processando modelo intfloor.obj. Vertice inicial: 21339\n",
      "Processando modelo intfloor.obj. Vertice final: 21345\n"
     ]
    }
   ],
   "source": [
    "modelo = load_model_from_file('intfloor/intfloor.obj')\n",
    "\n",
    "### inserindo vertices do modelo no vetor de vertices\n",
    "print('Processando modelo intfloor.obj. Vertice inicial:',len(vertices_list))\n",
    "for face in modelo['faces']:\n",
    "    for vertice_id in face[0]:\n",
    "        vertices_list.append( modelo['vertices'][vertice_id-1] )\n",
    "    for texture_id in face[1]:\n",
    "        textures_coord_list.append( modelo['texture'][texture_id-1] )\n",
    "    for normal_id in face[2]:\n",
    "        normals_list.append( modelo['normals'][normal_id-1] )\n",
    "print('Processando modelo intfloor.obj. Vertice final:',len(vertices_list))\n",
    "\n",
    "### inserindo coordenadas de textura do modelo no vetor de texturas\n",
    "\n",
    "### carregando textura equivalente e definindo um id (buffer): use um id por textura!\n",
    "load_texture_from_file(3,'intfloor/tex1.jpg')"
   ]
  },
  {
   "cell_type": "markdown",
   "metadata": {},
   "source": [
    "## Modelo do cavalo"
   ]
  },
  {
   "cell_type": "code",
   "execution_count": 17,
   "metadata": {},
   "outputs": [
    {
     "name": "stdout",
     "output_type": "stream",
     "text": [
      "Processando modelo horse.obj. Vertice inicial: 21345\n",
      "Processando modelo horse.obj. Vertice final: 155865\n"
     ]
    }
   ],
   "source": [
    "modelo = load_model_from_file('horse/horse.obj')\n",
    "\n",
    "### inserindo vertices do modelo no vetor de vertices\n",
    "print('Processando modelo horse.obj. Vertice inicial:',len(vertices_list))\n",
    "for face in modelo['faces']:\n",
    "    for vertice_id in face[0]:\n",
    "        vertices_list.append( modelo['vertices'][vertice_id-1] )\n",
    "    for texture_id in face[1]:\n",
    "        textures_coord_list.append( modelo['texture'][texture_id-1] )\n",
    "    for normal_id in face[2]:\n",
    "        normals_list.append( modelo['normals'][normal_id-1] )\n",
    "print('Processando modelo horse.obj. Vertice final:',len(vertices_list))\n",
    "\n",
    "### inserindo coordenadas de textura do modelo no vetor de texturas\n",
    "\n",
    "### carregando textura equivalente e definindo um id (buffer): use um id por textura!\n",
    "load_texture_from_file(4,'horse/horse_bodytex.jpg')"
   ]
  },
  {
   "cell_type": "markdown",
   "metadata": {},
   "source": [
    "## Modelo do Argustav"
   ]
  },
  {
   "cell_type": "code",
   "execution_count": 18,
   "metadata": {},
   "outputs": [
    {
     "name": "stdout",
     "output_type": "stream",
     "text": [
      "Processando modelo argustav.obj. Vertice inicial: 155865\n",
      "cokelat vertice inicial: 155865\n",
      "abu_cokelat vertice inicial: 174339\n",
      "kuning_gelap vertice inicial: 178179\n",
      "Material.008 vertice inicial: 178563\n",
      "Material.009 vertice inicial: 178959\n",
      "Material.007 vertice inicial: 179517\n",
      "Material vertice inicial: 181353\n",
      "kulit vertice inicial: 184425\n",
      "mata vertice inicial: 201009\n",
      "bawahan vertice inicial: 201201\n",
      "mulut vertice inicial: 203961\n",
      "Material.002 vertice inicial: 204009\n",
      "Processando modelo argustav.obj. Vertice final: 207081\n"
     ]
    }
   ],
   "source": [
    "modelo = load_model_from_file('argustav/argustav.obj')\n",
    "\n",
    "### inserindo vertices do modelo no vetor de vertices\n",
    "print('Processando modelo argustav.obj. Vertice inicial:',len(vertices_list))\n",
    "materials = []\n",
    "for face in modelo['faces']:\n",
    "    if face[3] not in materials:\n",
    "        print(face[3], \"vertice inicial:\", len(vertices_list))\n",
    "    materials.append(face[3])\n",
    "    for vertice_id in face[0]:\n",
    "        vertices_list.append( modelo['vertices'][vertice_id-1] )\n",
    "    for texture_id in face[1]:\n",
    "        textures_coord_list.append( modelo['texture'][texture_id-1] )\n",
    "    for normal_id in face[2]:\n",
    "        normals_list.append( modelo['normals'][normal_id-1] )\n",
    "print('Processando modelo argustav.obj. Vertice final:',len(vertices_list))\n",
    "\n",
    "### inserindo coordenadas de textura do modelo no vetor de texturas\n",
    "\n",
    "### carregando textura equivalente e definindo um id (buffer): use um id por textura!\n",
    "load_texture_from_file(5,'argustav/acoargustav.jpg')\n",
    "load_texture_from_file(6,'argustav/capaargustav.jpg')\n",
    "load_texture_from_file(7,'argustav/chainmailargustav.jpg')\n",
    "load_texture_from_file(8,'argustav/fivelaargustav.jpg')\n",
    "load_texture_from_file(9,'argustav/leatherargustav.png')\n",
    "load_texture_from_file(10,'argustav/peleargustav.jpg')"
   ]
  },
  {
   "cell_type": "markdown",
   "metadata": {},
   "source": [
    "## Modelo do caldeirão"
   ]
  },
  {
   "cell_type": "code",
   "execution_count": 19,
   "metadata": {},
   "outputs": [
    {
     "name": "stdout",
     "output_type": "stream",
     "text": [
      "Processando modelo cauldron.obj. Vertice inicial: 207081\n",
      "Processando modelo cauldron.obj. Vertice final: 213072\n"
     ]
    }
   ],
   "source": [
    "modelo = load_model_from_file('cauldron/cauldron.obj')\n",
    "\n",
    "### inserindo vertices do modelo no vetor de vertices\n",
    "print('Processando modelo cauldron.obj. Vertice inicial:',len(vertices_list))\n",
    "for face in modelo['faces']:\n",
    "    for vertice_id in face[0]:\n",
    "        vertices_list.append( modelo['vertices'][vertice_id-1] )\n",
    "    for texture_id in face[1]:\n",
    "        textures_coord_list.append(modelo['texture'][texture_id-1] )\n",
    "    for normal_id in face[2]:\n",
    "        normals_list.append( modelo['normals'][normal_id-1] )\n",
    "print('Processando modelo cauldron.obj. Vertice final:',len(vertices_list))\n",
    "\n",
    "### inserindo coordenadas de textura do modelo no vetor de texturas\n",
    "\n",
    "### carregando textura equivalente e definindo um id (buffer): use um id por textura!\n",
    "load_texture_from_file(11,'cauldron/ironcauldron.jpg')"
   ]
  },
  {
   "cell_type": "markdown",
   "metadata": {},
   "source": [
    "## Modelo do terreno do exterior"
   ]
  },
  {
   "cell_type": "code",
   "execution_count": 20,
   "metadata": {},
   "outputs": [
    {
     "name": "stdout",
     "output_type": "stream",
     "text": [
      "Processando modelo terreno.obj. Vertice inicial: 213072\n",
      "Mat vertice inicial: 213072\n",
      "gold vertice inicial: 267228\n",
      "Processando modelo terreno.obj. Vertice final: 273072\n"
     ]
    }
   ],
   "source": [
    "modelo = load_model_from_file('terreno/terreno.obj')\n",
    "materials = []\n",
    "### inserindo vertices do modelo no vetor de vertices\n",
    "print('Processando modelo terreno.obj. Vertice inicial:',len(vertices_list))\n",
    "for face in modelo['faces']:\n",
    "    if face[3] not in materials:\n",
    "        print(face[3], \"vertice inicial:\", len(vertices_list))\n",
    "    materials.append(face[3])\n",
    "    for vertice_id in face[0]:\n",
    "        vertices_list.append( modelo['vertices'][vertice_id-1] )\n",
    "    for texture_id in face[1]:\n",
    "        textures_coord_list.append(modelo['texture'][texture_id-1] )\n",
    "    for normal_id in face[2]:\n",
    "        normals_list.append( modelo['normals'][normal_id-1] )\n",
    "print('Processando modelo terreno.obj. Vertice final:',len(vertices_list))\n",
    "\n",
    "### inserindo coordenadas de textura do modelo no vetor de texturas\n",
    "\n",
    "### carregando textura equivalente e definindo um id (buffer): use um id por textura!\n",
    "load_texture_from_file(12,'terreno/rock.jpg')\n",
    "load_texture_from_file(13,'terreno/tex3.jpg')"
   ]
  },
  {
   "cell_type": "markdown",
   "metadata": {},
   "source": [
    "## Modelo do céu"
   ]
  },
  {
   "cell_type": "code",
   "execution_count": 21,
   "metadata": {},
   "outputs": [
    {
     "name": "stdout",
     "output_type": "stream",
     "text": [
      "Processando modelo skysphere.obj. Vertice inicial: 273072\n",
      "Processando modelo skysphere.obj. Vertice final: 310992\n"
     ]
    }
   ],
   "source": [
    "modelo = load_model_from_file('skysphere/skysphere.obj')\n",
    "### inserindo vertices do modelo no vetor de vertices\n",
    "print('Processando modelo skysphere.obj. Vertice inicial:',len(vertices_list))\n",
    "for face in modelo['faces']:\n",
    "    for vertice_id in face[0]:\n",
    "        vertices_list.append( modelo['vertices'][vertice_id-1] )\n",
    "    for texture_id in face[1]:\n",
    "        textures_coord_list.append(modelo['texture'][texture_id-1] )\n",
    "    for normal_id in face[2]:\n",
    "        normals_list.append( modelo['normals'][normal_id-1] )\n",
    "print('Processando modelo skysphere.obj. Vertice final:',len(vertices_list))\n",
    "\n",
    "### inserindo coordenadas de textura do modelo no vetor de texturas\n",
    "\n",
    "### carregando textura equivalente e definindo um id (buffer): use um id por textura!\n",
    "load_texture_from_file(14,'skysphere/stars.jpg')"
   ]
  },
  {
   "cell_type": "markdown",
   "metadata": {},
   "source": [
    "## Modelo do dragão estático"
   ]
  },
  {
   "cell_type": "code",
   "execution_count": 22,
   "metadata": {},
   "outputs": [
    {
     "name": "stdout",
     "output_type": "stream",
     "text": [
      "Processando modelo standingdragon.obj. Vertice inicial: 310992\n",
      "Material.011 vertice inicial: 310992\n",
      "Material.012 vertice inicial: 314655\n",
      "Material.014 vertice inicial: 314661\n",
      "Processando modelo standingdragon.obj. Vertice final: 314778\n"
     ]
    }
   ],
   "source": [
    "modelo = load_model_from_file('standing-dragon/standingdragon.obj')\n",
    "materials = []\n",
    "### inserindo vertices do modelo no vetor de vertices\n",
    "print('Processando modelo standingdragon.obj. Vertice inicial:',len(vertices_list))\n",
    "for face in modelo['faces']:\n",
    "    if face[3] not in materials:\n",
    "        print(face[3], \"vertice inicial:\", len(vertices_list))\n",
    "    materials.append(face[3])\n",
    "    for vertice_id in face[0]:\n",
    "        vertices_list.append( modelo['vertices'][vertice_id-1] )\n",
    "    for texture_id in face[1]:\n",
    "        textures_coord_list.append(modelo['texture'][texture_id-1] )\n",
    "    for normal_id in face[2]:\n",
    "        normals_list.append( modelo['normals'][normal_id-1] )\n",
    "print('Processando modelo standingdragon.obj. Vertice final:',len(vertices_list))\n",
    "\n",
    "### inserindo coordenadas de textura do modelo no vetor de texturas\n",
    "\n",
    "### carregando textura equivalente e definindo um id (buffer): use um id por textura!\n",
    "load_texture_from_file(15,'standing-dragon/dragon-scales.jpg')\n",
    "load_texture_from_file(16,'standing-dragon/white.jpg')"
   ]
  },
  {
   "cell_type": "markdown",
   "metadata": {},
   "source": [
    "## Modelo do dragão voador"
   ]
  },
  {
   "cell_type": "code",
   "execution_count": 23,
   "metadata": {},
   "outputs": [
    {
     "name": "stdout",
     "output_type": "stream",
     "text": [
      "Processando modelo flyingdragon.obj. Vertice inicial: 314778\n",
      "bawah vertice inicial: 314778\n",
      "atas vertice inicial: 315510\n",
      "hidung vertice inicial: 319380\n",
      "Material.013 vertice inicial: 319734\n",
      "Material.003 vertice inicial: 319758\n",
      "sayap_atas vertice inicial: 320016\n",
      "Material.004 vertice inicial: 320274\n",
      "mata.001 vertice inicial: 320298\n",
      "kepala vertice inicial: 320310\n",
      "mulut.001 vertice inicial: 321156\n",
      "Processando modelo flyingdragon.obj. Vertice final: 321366\n"
     ]
    }
   ],
   "source": [
    "modelo = load_model_from_file('flying-dragon/flyingdragon.obj')\n",
    "materials = []\n",
    "### inserindo vertices do modelo no vetor de vertices\n",
    "print('Processando modelo flyingdragon.obj. Vertice inicial:',len(vertices_list))\n",
    "for face in modelo['faces']:\n",
    "    if face[3] not in materials:\n",
    "        print(face[3], \"vertice inicial:\", len(vertices_list))\n",
    "    materials.append(face[3])\n",
    "    for vertice_id in face[0]:\n",
    "        vertices_list.append( modelo['vertices'][vertice_id-1] )\n",
    "    for texture_id in face[1]:\n",
    "        textures_coord_list.append(modelo['texture'][texture_id-1] )\n",
    "    for normal_id in face[2]:\n",
    "        normals_list.append( modelo['normals'][normal_id-1] )\n",
    "print('Processando modelo flyingdragon.obj. Vertice final:',len(vertices_list))\n",
    "\n",
    "### inserindo coordenadas de textura do modelo no vetor de texturas\n",
    "\n",
    "### carregando textura equivalente e definindo um id (buffer): use um id por textura!\n",
    "load_texture_from_file(17,'flying-dragon/flyingdragontex.jpg')"
   ]
  },
  {
   "cell_type": "markdown",
   "metadata": {},
   "source": [
    "## Modelo das cabras"
   ]
  },
  {
   "cell_type": "code",
   "execution_count": 24,
   "metadata": {},
   "outputs": [
    {
     "name": "stdout",
     "output_type": "stream",
     "text": [
      "Processando modelo goatfamily.obj. Vertice inicial: 321366\n",
      "Material.005 vertice inicial: 321366\n",
      "Material.006 vertice inicial: 321894\n",
      "Material.010 vertice inicial: 322422\n",
      "Processando modelo goatfamily.obj. Vertice final: 322980\n"
     ]
    }
   ],
   "source": [
    "modelo = load_model_from_file('goats/goatfamily.obj')\n",
    "materials = []\n",
    "### inserindo vertices do modelo no vetor de vertices\n",
    "print('Processando modelo goatfamily.obj. Vertice inicial:',len(vertices_list))\n",
    "for face in modelo['faces']:\n",
    "    if face[3] not in materials:\n",
    "        print(face[3], \"vertice inicial:\", len(vertices_list))\n",
    "    materials.append(face[3])\n",
    "    for vertice_id in face[0]:\n",
    "        vertices_list.append( modelo['vertices'][vertice_id-1] )\n",
    "    for texture_id in face[1]:\n",
    "        textures_coord_list.append(modelo['texture'][texture_id-1] )\n",
    "    for normal_id in face[2]:\n",
    "        normals_list.append( modelo['normals'][normal_id-1] )\n",
    "print('Processando modelo goatfamily.obj. Vertice final:',len(vertices_list))\n",
    "\n",
    "### carregando textura equivalente e definindo um id (buffer): use um id por textura!\n",
    "load_texture_from_file(18,'goats/goat-texture.jpg')\n",
    "load_texture_from_file(19,'goats/goat2-texture.jpeg')\n",
    "load_texture_from_file(20,'goats/goat3-texture.jpg')"
   ]
  },
  {
   "cell_type": "markdown",
   "metadata": {},
   "source": [
    "## Modelo do sol\n"
   ]
  },
  {
   "cell_type": "code",
   "execution_count": 25,
   "metadata": {},
   "outputs": [
    {
     "name": "stdout",
     "output_type": "stream",
     "text": [
      "Processando modelo sun.obj. Vertice inicial: 322980\n",
      "Processando modelo sun.obj. Vertice final: 325860\n"
     ]
    }
   ],
   "source": [
    "modelo = load_model_from_file('sun/sun.obj')\n",
    "### inserindo vertices do modelo no vetor de vertices\n",
    "print('Processando modelo sun.obj. Vertice inicial:',len(vertices_list))\n",
    "for face in modelo['faces']:\n",
    "    for vertice_id in face[0]:\n",
    "        vertices_list.append( modelo['vertices'][vertice_id-1] )\n",
    "    for texture_id in face[1]:\n",
    "        textures_coord_list.append(modelo['texture'][texture_id-1] )\n",
    "    for normal_id in face[2]:\n",
    "        normals_list.append( modelo['normals'][normal_id-1] )\n",
    "print('Processando modelo sun.obj. Vertice final:',len(vertices_list))\n",
    "\n",
    "### inserindo coordenadas de textura do modelo no vetor de texturas\n",
    "\n",
    "### carregando textura equivalente e definindo um id (buffer): use um id por textura!\n",
    "load_texture_from_file(21,'sun/sun.jpg')"
   ]
  },
  {
   "cell_type": "markdown",
   "metadata": {},
   "source": [
    "### Para enviar nossos dados da CPU para a GPU, precisamos requisitar slots.\n",
    "\n",
    "Nós agora vamos requisitar dois slots.\n",
    "* Um para enviar coordenadas dos vértices.\n",
    "* Outros para enviar coordenadas de texturas."
   ]
  },
  {
   "cell_type": "code",
   "execution_count": 26,
   "metadata": {},
   "outputs": [],
   "source": [
    "# Request a buffer slot from GPU\n",
    "buffer = glGenBuffers(3)"
   ]
  },
  {
   "cell_type": "markdown",
   "metadata": {},
   "source": [
    "###  Enviando coordenadas de vértices para a GPU"
   ]
  },
  {
   "cell_type": "code",
   "execution_count": 27,
   "metadata": {},
   "outputs": [],
   "source": [
    "vertices = np.zeros(len(vertices_list), [(\"position\", np.float32, 3)])\n",
    "vertices['position'] = vertices_list\n",
    "\n",
    "# Upload data\n",
    "glBindBuffer(GL_ARRAY_BUFFER, buffer[0])\n",
    "glBufferData(GL_ARRAY_BUFFER, vertices.nbytes, vertices, GL_STATIC_DRAW)\n",
    "stride = vertices.strides[0]\n",
    "offset = ctypes.c_void_p(0)\n",
    "loc_vertices = glGetAttribLocation(program, \"position\")\n",
    "glEnableVertexAttribArray(loc_vertices)\n",
    "glVertexAttribPointer(loc_vertices, 3, GL_FLOAT, False, stride, offset)"
   ]
  },
  {
   "cell_type": "markdown",
   "metadata": {},
   "source": [
    "###  Enviando coordenadas de textura para a GPU"
   ]
  },
  {
   "cell_type": "code",
   "execution_count": 28,
   "metadata": {},
   "outputs": [],
   "source": [
    "textures = np.zeros(len(textures_coord_list), [(\"position\", np.float32, 2)]) # duas coordenadas\n",
    "textures['position'] = textures_coord_list\n",
    "\n",
    "# Upload data\n",
    "glBindBuffer(GL_ARRAY_BUFFER, buffer[1])\n",
    "glBufferData(GL_ARRAY_BUFFER, textures.nbytes, textures, GL_STATIC_DRAW)\n",
    "stride = textures.strides[0]\n",
    "offset = ctypes.c_void_p(0)\n",
    "loc_texture_coord = glGetAttribLocation(program, \"texture_coord\")\n",
    "glEnableVertexAttribArray(loc_texture_coord)\n",
    "glVertexAttribPointer(loc_texture_coord, 2, GL_FLOAT, False, stride, offset)"
   ]
  },
  {
   "cell_type": "markdown",
   "metadata": {},
   "source": [
    "## Enviando dados de Iluminação a GPU\n",
    "### Dados de iluminação: vetores normais"
   ]
  },
  {
   "cell_type": "code",
   "execution_count": 29,
   "metadata": {},
   "outputs": [],
   "source": [
    "normals = np.zeros(len(normals_list), [(\"position\", np.float32, 3)]) # três coordenadas\n",
    "normals['position'] = normals_list\n",
    "\n",
    "\n",
    "# Upload coordenadas normals de cada vertice\n",
    "glBindBuffer(GL_ARRAY_BUFFER, buffer[2])\n",
    "glBufferData(GL_ARRAY_BUFFER, normals.nbytes, normals, GL_STATIC_DRAW)\n",
    "stride = normals.strides[0]\n",
    "offset = ctypes.c_void_p(0)\n",
    "loc_normals_coord = glGetAttribLocation(program, \"normals\")\n",
    "glEnableVertexAttribArray(loc_normals_coord)\n",
    "glVertexAttribPointer(loc_normals_coord, 3, GL_FLOAT, False, stride, offset)"
   ]
  },
  {
   "cell_type": "markdown",
   "metadata": {},
   "source": [
    "### Desenhando nossos modelos\n",
    "* Cada modelo tem um Model para posicioná-los no mundo.\n",
    "* É necessário saber qual a posição inicial e total de vértices de cada modelo\n",
    "* É necessário indicar qual o ID da textura do modelo\n"
   ]
  },
  {
   "cell_type": "code",
   "execution_count": 30,
   "metadata": {},
   "outputs": [],
   "source": [
    "def desenha_igreja():\n",
    "    # aplica a matriz model\n",
    "    \n",
    "    # rotacao\n",
    "    angle = 0.0;\n",
    "    r_x = 0.0; r_y = 0.0; r_z = 1.0;\n",
    "    \n",
    "    # translacao\n",
    "    t_x = 0.0; t_y = 0.0; t_z = 0.0;\n",
    "    \n",
    "    # escala\n",
    "    s_x = 1.0; s_y = 1.0; s_z = 1.0;\n",
    "    \n",
    "    mat_model = model(angle, r_x, r_y, r_z, t_x, t_y, t_z, s_x, s_y, s_z)\n",
    "    loc_model = glGetUniformLocation(program, \"model\")\n",
    "    glUniformMatrix4fv(loc_model, 1, GL_TRUE, mat_model)\n",
    "    \n",
    "    #### define parametros de iluminacao do modelo\n",
    "    ka = 0.7 * ka_control # coeficiente de reflexao ambiente do modelo\n",
    "    kd = 0.3 * kd_control # coeficiente de reflexao difusa do modelo\n",
    "    ks = 0.6 # coeficiente de reflexao especular do modelo\n",
    "    ns = 64.0 # expoente de reflexao especular\n",
    "    \n",
    "    loc_ka = glGetUniformLocation(program, \"ka\") # recuperando localizacao da variavel ka na GPU\n",
    "    glUniform1f(loc_ka, ka) ### envia ka pra gpu\n",
    "    loc_kd = glGetUniformLocation(program, \"kd\") # recuperando localizacao da variavel kd na GPU\n",
    "    glUniform1f(loc_kd, kd) ### envia kd pra gpu    \n",
    "    loc_ks = glGetUniformLocation(program, \"ks\") # recuperando localizacao da variavel ks na GPU\n",
    "    glUniform1f(loc_ks, ks) ### envia ks pra gpu        \n",
    "    loc_ns = glGetUniformLocation(program, \"ns\") # recuperando localizacao da variavel ns na GPU\n",
    "    glUniform1f(loc_ns, ns) ### envia ns pra gpu \n",
    "    loc_ns = glGetUniformLocation(program, \"ki\") # recuperando localizacao da variavel ns na GPU\n",
    "    glUniform1f(loc_ns, ki) ### envia ns pra gpu\n",
    "    loc_ns = glGetUniformLocation(program, \"ke\") # recuperando localizacao da variavel ns na GPU\n",
    "    glUniform1f(loc_ns, ke) ### envia ns pra gpu\n",
    "       \n",
    "    # Paredes\n",
    "    glBindTexture(GL_TEXTURE_2D, 1)\n",
    "    glDrawArrays(GL_TRIANGLES, 0, 16563) ## renderizando\n",
    "    \n",
    "    # Cruz\n",
    "    glBindTexture(GL_TEXTURE_2D, 11)\n",
    "    glDrawArrays(GL_TRIANGLES, 16563, 17175-16563) ## renderizando\n",
    "    \n",
    "    # Telhado\n",
    "    glBindTexture(GL_TEXTURE_2D, 0)\n",
    "    glDrawArrays(GL_TRIANGLES, 17175, 18834-17175) ## renderizando\n",
    "    \n",
    "    # Arco\n",
    "    glBindTexture(GL_TEXTURE_2D, 1)\n",
    "    glDrawArrays(GL_TRIANGLES, 18834, 21195-18834) ## renderizando\n",
    "\n",
    "    # Arbustos\n",
    "    glBindTexture(GL_TEXTURE_2D, 2)\n",
    "    glDrawArrays(GL_TRIANGLES, 21195, 21339-21195) ## renderizando"
   ]
  },
  {
   "cell_type": "code",
   "execution_count": 31,
   "metadata": {},
   "outputs": [],
   "source": [
    "def desenha_chao_interior():\n",
    "    # aplica a matriz model\n",
    "    \n",
    "    # rotacao\n",
    "    angle = 0.0;\n",
    "    r_x = 0.0; r_y = 0.0; r_z = 1.0;\n",
    "    \n",
    "    # translacao\n",
    "    t_x = 0.0; t_y = 0.0; t_z = 0.0;\n",
    "    \n",
    "    # escala\n",
    "    s_x = 1.0; s_y = 1.0; s_z = 1.0;\n",
    "    \n",
    "    mat_model = model(angle, r_x, r_y, r_z, t_x, t_y, t_z, s_x, s_y, s_z)\n",
    "    loc_model = glGetUniformLocation(program, \"model\")\n",
    "    glUniformMatrix4fv(loc_model, 1, GL_TRUE, mat_model)\n",
    "    \n",
    "    #### define parametros de iluminacao do modelo\n",
    "    ka = 0.7 * ka_control # coeficiente de reflexao ambiente do modelo\n",
    "    kd = 0.2 * kd_control # coeficiente de reflexao difusa do modelo\n",
    "    ks = 0.9 # coeficiente de reflexao especular do modelo\n",
    "    ns = 64.0 # expoente de reflexao especular\n",
    "    \n",
    "    loc_ka = glGetUniformLocation(program, \"ka\") # recuperando localizacao da variavel ka na GPU\n",
    "    glUniform1f(loc_ka, ka) ### envia ka pra gpu\n",
    "    loc_kd = glGetUniformLocation(program, \"kd\") # recuperando localizacao da variavel kd na GPU\n",
    "    glUniform1f(loc_kd, kd) ### envia kd pra gpu    \n",
    "    loc_ks = glGetUniformLocation(program, \"ks\") # recuperando localizacao da variavel ks na GPU\n",
    "    glUniform1f(loc_ks, ks) ### envia ks pra gpu        \n",
    "    loc_ns = glGetUniformLocation(program, \"ns\") # recuperando localizacao da variavel ns na GPU\n",
    "    glUniform1f(loc_ns, ns) ### envia ns pra gpu \n",
    "    loc_ns = glGetUniformLocation(program, \"ki\") # recuperando localizacao da variavel ns na GPU\n",
    "    glUniform1f(loc_ns, ki) ### envia ns pra gpu\n",
    "    loc_ns = glGetUniformLocation(program, \"ke\") # recuperando localizacao da variavel ns na GPU\n",
    "    glUniform1f(loc_ns, ke) ### envia ns pra gpu\n",
    "       \n",
    "    glBindTexture(GL_TEXTURE_2D, 3)\n",
    "    glDrawArrays(GL_TRIANGLES, 21339, 21345-21339) ## renderizando"
   ]
  },
  {
   "cell_type": "code",
   "execution_count": 32,
   "metadata": {},
   "outputs": [],
   "source": [
    "def desenha_cavalo():\n",
    "    # aplica a matriz model\n",
    "    \n",
    "    # rotacao\n",
    "    angle = 0.0;\n",
    "    r_x = 0.0; r_y = 0.0; r_z = 1.0;\n",
    "    \n",
    "    # translacao\n",
    "    t_x = 0.0; t_y = 0.0; t_z = 0.0;\n",
    "    \n",
    "    # escala\n",
    "    s_x = 1.0; s_y = 1.0; s_z = 1.0;\n",
    "    \n",
    "    mat_model = model(angle, r_x, r_y, r_z, t_x, t_y, t_z, s_x, s_y, s_z)\n",
    "    loc_model = glGetUniformLocation(program, \"model\")\n",
    "    glUniformMatrix4fv(loc_model, 1, GL_TRUE, mat_model)\n",
    "    \n",
    "    #### define parametros de iluminacao do modelo\n",
    "    ka = 0.6 * ka_control # coeficiente de reflexao ambiente do modelo\n",
    "    kd = 0.9 * kd_control # coeficiente de reflexao difusa do modelo\n",
    "    ks = 0.1 # coeficiente de reflexao especular do modelo\n",
    "    ns = 64.0 # expoente de reflexao especular\n",
    "    \n",
    "    loc_ka = glGetUniformLocation(program, \"ka\") # recuperando localizacao da variavel ka na GPU\n",
    "    glUniform1f(loc_ka, ka) ### envia ka pra gpu\n",
    "    loc_kd = glGetUniformLocation(program, \"kd\") # recuperando localizacao da variavel kd na GPU\n",
    "    glUniform1f(loc_kd, kd) ### envia kd pra gpu    \n",
    "    loc_ks = glGetUniformLocation(program, \"ks\") # recuperando localizacao da variavel ks na GPU\n",
    "    glUniform1f(loc_ks, ks) ### envia ks pra gpu        \n",
    "    loc_ns = glGetUniformLocation(program, \"ns\") # recuperando localizacao da variavel ns na GPU\n",
    "    glUniform1f(loc_ns, ns) ### envia ns pra gpu \n",
    "    loc_ns = glGetUniformLocation(program, \"ki\") # recuperando localizacao da variavel ns na GPU\n",
    "    glUniform1f(loc_ns, ki) ### envia ns pra gpu\n",
    "    loc_ns = glGetUniformLocation(program, \"ke\") # recuperando localizacao da variavel ns na GPU\n",
    "    glUniform1f(loc_ns, ke) ### envia ns pra gpu\n",
    "       \n",
    "    #define id da textura do modelo\n",
    "    glBindTexture(GL_TEXTURE_2D, 4)\n",
    "    \n",
    "    # desenha o modelo\n",
    "    glDrawArrays(GL_TRIANGLES, 21345, 155865-21345) ## renderizando"
   ]
  },
  {
   "cell_type": "code",
   "execution_count": 33,
   "metadata": {},
   "outputs": [],
   "source": [
    "def desenha_argustav():\n",
    "    # aplica a matriz model\n",
    "    \n",
    "    # rotacao\n",
    "    angle = 0.0;\n",
    "    r_x = 0.0; r_y = 0.0; r_z = 1.0;\n",
    "    \n",
    "    # translacao\n",
    "    t_x = 0.0; t_y = 0.0; t_z = 0.0;\n",
    "    \n",
    "    # escala\n",
    "    s_x = 1.0; s_y = 1.0; s_z = 1.0;\n",
    "    \n",
    "    mat_model = model(angle, r_x, r_y, r_z, t_x, t_y, t_z, s_x, s_y, s_z)\n",
    "    loc_model = glGetUniformLocation(program, \"model\")\n",
    "    glUniformMatrix4fv(loc_model, 1, GL_TRUE, mat_model) \n",
    "    \n",
    "    #### define parametros de iluminacao do modelo\n",
    "    ka = 0.6 * ka_control # coeficiente de reflexao ambiente do modelo\n",
    "    kd = 0.9 * kd_control # coeficiente de reflexao difusa do modelo\n",
    "    ks = 0.1 # coeficiente de reflexao especular do modelo\n",
    "    ns = 64.0 # expoente de reflexao especular\n",
    "    \n",
    "    loc_ka = glGetUniformLocation(program, \"ka\") # recuperando localizacao da variavel ka na GPU\n",
    "    glUniform1f(loc_ka, ka) ### envia ka pra gpu\n",
    "    loc_kd = glGetUniformLocation(program, \"kd\") # recuperando localizacao da variavel kd na GPU\n",
    "    glUniform1f(loc_kd, kd) ### envia kd pra gpu    \n",
    "    loc_ks = glGetUniformLocation(program, \"ks\") # recuperando localizacao da variavel ks na GPU\n",
    "    glUniform1f(loc_ks, ks) ### envia ks pra gpu        \n",
    "    loc_ns = glGetUniformLocation(program, \"ns\") # recuperando localizacao da variavel ns na GPU\n",
    "    glUniform1f(loc_ns, ns) ### envia ns pra gpu \n",
    "    loc_ns = glGetUniformLocation(program, \"ki\") # recuperando localizacao da variavel ns na GPU\n",
    "    glUniform1f(loc_ns, ki) ### envia ns pra gpu\n",
    "    loc_ns = glGetUniformLocation(program, \"ke\") # recuperando localizacao da variavel ns na GPU\n",
    "    glUniform1f(loc_ns, ke) ### envia ns pra gpu\n",
    "    \n",
    "    # Capa\n",
    "    glBindTexture(GL_TEXTURE_2D, 6)\n",
    "    glDrawArrays(GL_TRIANGLES, 155865, 174339-155865) ## renderizando\n",
    "    \n",
    "    # Cota de malha\n",
    "    glBindTexture(GL_TEXTURE_2D, 7)\n",
    "    glDrawArrays(GL_TRIANGLES, 174339, 178179-174339) ## renderizando\n",
    "    \n",
    "    # Fivela\n",
    "    glBindTexture(GL_TEXTURE_2D, 8)\n",
    "    glDrawArrays(GL_TRIANGLES, 178179, 178959-178179) ## renderizando\n",
    "    \n",
    "    # Aço\n",
    "    glBindTexture(GL_TEXTURE_2D, 5)\n",
    "    glDrawArrays(GL_TRIANGLES, 178959, 181353-178959) ## renderizando\n",
    "    \n",
    "     # Couro\n",
    "    glBindTexture(GL_TEXTURE_2D, 9)\n",
    "    glDrawArrays(GL_TRIANGLES, 181353, 184425-181353) ## renderizando\n",
    "\n",
    "    # Pele\n",
    "    glBindTexture(GL_TEXTURE_2D, 10)\n",
    "    glDrawArrays(GL_TRIANGLES, 184425, 201201-184425) ## renderizando\n",
    "\n",
    "    # Capa\n",
    "    glBindTexture(GL_TEXTURE_2D, 6)\n",
    "    glDrawArrays(GL_TRIANGLES, 201201, 203961-201201) ## renderizando\n",
    "    \n",
    "    # Couro\n",
    "    glBindTexture(GL_TEXTURE_2D, 9)\n",
    "    glDrawArrays(GL_TRIANGLES, 203961, 207081-203961) ## renderizando"
   ]
  },
  {
   "cell_type": "code",
   "execution_count": 34,
   "metadata": {},
   "outputs": [],
   "source": [
    "def desenha_caldeirao():\n",
    "    # aplica a matriz model\n",
    "    \n",
    "    # rotacao\n",
    "    angle = 0.0\n",
    "    r_x = 0.0; r_y = 0.0; r_z = 1.0;\n",
    "    \n",
    "    # translacao\n",
    "    t_x = 0.0; t_y = 0.2; t_z = -1.5;\n",
    "    \n",
    "    # escala\n",
    "    s_x = 1.0; s_y = 1.0; s_z = 1.0;\n",
    "    \n",
    "    mat_model = model(angle, r_x, r_y, r_z, t_x, t_y, t_z, s_x, s_y, s_z)\n",
    "    loc_model = glGetUniformLocation(program, \"model\")\n",
    "    glUniformMatrix4fv(loc_model, 1, GL_TRUE, mat_model)\n",
    "    \n",
    "    #### define parametros de iluminacao do modelo\n",
    "    ka = 0.6 * ka_control # coeficiente de reflexao ambiente do modelo\n",
    "    kd = 0.9 * kd_control # coeficiente de reflexao difusa do modelo\n",
    "    ks = 0.7 # coeficiente de reflexao especular do modelo\n",
    "    ns = 64.0 # expoente de reflexao especular\n",
    "    \n",
    "    loc_ka = glGetUniformLocation(program, \"ka\") # recuperando localizacao da variavel ka na GPU\n",
    "    glUniform1f(loc_ka, ka) ### envia ka pra gpu\n",
    "    loc_kd = glGetUniformLocation(program, \"kd\") # recuperando localizacao da variavel kd na GPU\n",
    "    glUniform1f(loc_kd, kd) ### envia kd pra gpu    \n",
    "    loc_ks = glGetUniformLocation(program, \"ks\") # recuperando localizacao da variavel ks na GPU\n",
    "    glUniform1f(loc_ks, ks) ### envia ks pra gpu        \n",
    "    loc_ns = glGetUniformLocation(program, \"ns\") # recuperando localizacao da variavel ns na GPU\n",
    "    glUniform1f(loc_ns, ns) ### envia ns pra gpu \n",
    "    loc_ns = glGetUniformLocation(program, \"ki\") # recuperando localizacao da variavel ns na GPU\n",
    "    glUniform1f(loc_ns, ki) ### envia ns pra gpu\n",
    "    loc_ns = glGetUniformLocation(program, \"ke\") # recuperando localizacao da variavel ns na GPU\n",
    "    glUniform1f(loc_ns, ke) ### envia ns pra gpu\n",
    "       \n",
    "    #define id da textura do modelo\n",
    "    glBindTexture(GL_TEXTURE_2D, 11)\n",
    "    # desenha o modelo\n",
    "    glDrawArrays(GL_TRIANGLES, 207081, 213072-207081) ## renderizando"
   ]
  },
  {
   "cell_type": "code",
   "execution_count": 35,
   "metadata": {},
   "outputs": [],
   "source": [
    "def desenha_terreno():\n",
    "    # aplica a matriz model\n",
    "    \n",
    "    # rotacao\n",
    "    angle = 0.0;\n",
    "    r_x = 0.0; r_y = 0.0; r_z = 1.0;\n",
    "    \n",
    "    # translacao\n",
    "    t_x = 0.0; t_y = 0.0; t_z = 0.0;\n",
    "    \n",
    "    # escala\n",
    "    s_x = 1.0; s_y = 1.0; s_z = 1.0;\n",
    "    \n",
    "    mat_model = model(angle, r_x, r_y, r_z, t_x, t_y, t_z, s_x, s_y, s_z)\n",
    "    loc_model = glGetUniformLocation(program, \"model\")\n",
    "    glUniformMatrix4fv(loc_model, 1, GL_TRUE, mat_model)\n",
    "    \n",
    "    #### define parametros de iluminacao do modelo\n",
    "    ka = 0.4 * ka_control # coeficiente de reflexao ambiente do modelo\n",
    "    kd = 0.8 * kd_control # coeficiente de reflexao difusa do modelo\n",
    "    ks = 0.7 # coeficiente de reflexao especular do modelo\n",
    "    ns = 128.0 # expoente de reflexao especular\n",
    "    \n",
    "    loc_ka = glGetUniformLocation(program, \"ka\") # recuperando localizacao da variavel ka na GPU\n",
    "    glUniform1f(loc_ka, ka) ### envia ka pra gpu\n",
    "    loc_kd = glGetUniformLocation(program, \"kd\") # recuperando localizacao da variavel kd na GPU\n",
    "    glUniform1f(loc_kd, kd) ### envia kd pra gpu    \n",
    "    loc_ks = glGetUniformLocation(program, \"ks\") # recuperando localizacao da variavel ks na GPU\n",
    "    glUniform1f(loc_ks, ks) ### envia ks pra gpu        \n",
    "    loc_ns = glGetUniformLocation(program, \"ns\") # recuperando localizacao da variavel ns na GPU\n",
    "    glUniform1f(loc_ns, ns) ### envia ns pra gpu \n",
    "    loc_ns = glGetUniformLocation(program, \"ki\") # recuperando localizacao da variavel ns na GPU\n",
    "    glUniform1f(loc_ns, ki) ### envia ns pra gpu\n",
    "    loc_ns = glGetUniformLocation(program, \"ke\") # recuperando localizacao da variavel ns na GPU\n",
    "    glUniform1f(loc_ns, ke) ### envia ns pra gpu\n",
    "        \n",
    "    # Pedra\n",
    "    glBindTexture(GL_TEXTURE_2D, 12)\n",
    "    glDrawArrays(GL_TRIANGLES, 213072, 267228-213072) ## renderizando\n",
    "    \n",
    "    # Ouro\n",
    "    glBindTexture(GL_TEXTURE_2D, 13)\n",
    "    glDrawArrays(GL_TRIANGLES, 267228, 273072-267228)"
   ]
  },
  {
   "cell_type": "code",
   "execution_count": 36,
   "metadata": {},
   "outputs": [],
   "source": [
    "def desenha_skybox():\n",
    "    # aplica a matriz model\n",
    "    \n",
    "    # rotacao\n",
    "    angle = 0.0;\n",
    "    r_x = 0.0; r_y = 0.0; r_z = 1.0;\n",
    "    \n",
    "    # translacao\n",
    "    t_x = 0.0; t_y = 0.0; t_z = 0.0;\n",
    "    \n",
    "    # escala\n",
    "    s_x = 1.0; s_y = 1.0; s_z = 1.0;\n",
    "    \n",
    "    mat_model = model(angle, r_x, r_y, r_z, t_x, t_y, t_z, s_x, s_y, s_z)\n",
    "    loc_model = glGetUniformLocation(program, \"model\")\n",
    "    glUniformMatrix4fv(loc_model, 1, GL_TRUE, mat_model)\n",
    "    \n",
    "    #### define parametros de iluminacao do modelo\n",
    "    ka = 0.4 * ka_control # coeficiente de reflexao ambiente do modelo\n",
    "    kd = 0.9 * kd_control # coeficiente de reflexao difusa do modelo\n",
    "    ks = 0.1 # coeficiente de reflexao especular do modelo\n",
    "    ns = 64.0 # expoente de reflexao especular\n",
    "    \n",
    "    loc_ka = glGetUniformLocation(program, \"ka\") # recuperando localizacao da variavel ka na GPU\n",
    "    glUniform1f(loc_ka, ka) ### envia ka pra gpu\n",
    "    loc_kd = glGetUniformLocation(program, \"kd\") # recuperando localizacao da variavel kd na GPU\n",
    "    glUniform1f(loc_kd, kd) ### envia kd pra gpu    \n",
    "    loc_ks = glGetUniformLocation(program, \"ks\") # recuperando localizacao da variavel ks na GPU\n",
    "    glUniform1f(loc_ks, ks) ### envia ks pra gpu        \n",
    "    loc_ns = glGetUniformLocation(program, \"ns\") # recuperando localizacao da variavel ns na GPU\n",
    "    glUniform1f(loc_ns, ns) ### envia ns pra gpu \n",
    "    loc_ns = glGetUniformLocation(program, \"ki\") # recuperando localizacao da variavel ns na GPU\n",
    "    glUniform1f(loc_ns, ki) ### envia ns pra gpu\n",
    "    loc_ns = glGetUniformLocation(program, \"ke\") # recuperando localizacao da variavel ns na GPU\n",
    "    glUniform1f(loc_ns, ke) ### envia ns pra gpu\n",
    "       \n",
    "    # Céu\n",
    "    glBindTexture(GL_TEXTURE_2D, 14)\n",
    "    glDrawArrays(GL_TRIANGLES, 273072, 310992-273072) ## renderizando"
   ]
  },
  {
   "cell_type": "code",
   "execution_count": 37,
   "metadata": {},
   "outputs": [],
   "source": [
    "def desenha_dragao1():\n",
    "    # aplica a matriz model\n",
    "    \n",
    "    # rotacao\n",
    "    angle = 0.0;\n",
    "    r_x = 0.0; r_y = 0.0; r_z = 1.0;\n",
    "    \n",
    "    # translacao\n",
    "    t_x = 0.0; t_y = 0.0; t_z = 0.0;\n",
    "    \n",
    "    # escala\n",
    "    s_x = 1.0; s_y = 1.0; s_z = 1.0;\n",
    "    \n",
    "    mat_model = model(angle, r_x, r_y, r_z, t_x, t_y, t_z, s_x, s_y, s_z)\n",
    "    loc_model = glGetUniformLocation(program, \"model\")\n",
    "    glUniformMatrix4fv(loc_model, 1, GL_TRUE, mat_model)\n",
    "    \n",
    "    #### define parametros de iluminacao do modelo\n",
    "    ka = 0.3 * ka_control # coeficiente de reflexao ambiente do modelo\n",
    "    kd = 0.9 * kd_control # coeficiente de reflexao difusa do modelo\n",
    "    ks = 1.0 # coeficiente de reflexao especular do modelo\n",
    "    ns = 256.0 # expoente de reflexao especular\n",
    "    \n",
    "    loc_ka = glGetUniformLocation(program, \"ka\") # recuperando localizacao da variavel ka na GPU\n",
    "    glUniform1f(loc_ka, ka) ### envia ka pra gpu\n",
    "    loc_kd = glGetUniformLocation(program, \"kd\") # recuperando localizacao da variavel kd na GPU\n",
    "    glUniform1f(loc_kd, kd) ### envia kd pra gpu    \n",
    "    loc_ks = glGetUniformLocation(program, \"ks\") # recuperando localizacao da variavel ks na GPU\n",
    "    glUniform1f(loc_ks, ks) ### envia ks pra gpu        \n",
    "    loc_ns = glGetUniformLocation(program, \"ns\") # recuperando localizacao da variavel ns na GPU\n",
    "    glUniform1f(loc_ns, ns) ### envia ns pra gpu \n",
    "    loc_ns = glGetUniformLocation(program, \"ki\") # recuperando localizacao da variavel ns na GPU\n",
    "    glUniform1f(loc_ns, ki) ### envia ns pra gpu\n",
    "    loc_ns = glGetUniformLocation(program, \"ke\") # recuperando localizacao da variavel ns na GPU\n",
    "    glUniform1f(loc_ns, ke) ### envia ns pra gpu\n",
    "\n",
    "    # Escamas\n",
    "    glBindTexture(GL_TEXTURE_2D, 15)\n",
    "    glDrawArrays(GL_TRIANGLES, 310992, 314655-310992) ## renderizando\n",
    "    \n",
    "    # Olhos e peito\n",
    "    glBindTexture(GL_TEXTURE_2D, 16)\n",
    "    glDrawArrays(GL_TRIANGLES, 314655, 314778-314655) ## renderizando"
   ]
  },
  {
   "cell_type": "code",
   "execution_count": 38,
   "metadata": {},
   "outputs": [],
   "source": [
    "def desenha_dragao2(theta):    \n",
    "    # orbita\n",
    "    \n",
    "    # Para a transformação do dragão fazemos uma translação do objeto pelos limites de um círculo, usando as coordenadas\n",
    "    #  x e y como cosseno e seno do ângulo theta que incrementa, respectivamente, e fazemos uma rotação do objeto pelo\n",
    "    #  próprio eixo, para mantê-lo orientado para a origem do círculo.\n",
    "    \n",
    "    angle = math.radians(theta)\n",
    "    x = np.cos(angle)*40\n",
    "    y = np.sin(angle)*40\n",
    "    mat_transform = glm.mat4(1.0) # instanciando uma matriz identidade\n",
    "    mat_transform = glm.translate(mat_transform, glm.vec3(x, 20, y))\n",
    "    mat_transform = glm.rotate(mat_transform, -angle, glm.vec3(0, 1, 0))\n",
    "    mat_transform = np.array(mat_transform).T # pegando a transposta da matriz (glm trabalha com ela invertida)\n",
    "\n",
    "    loc_model = glGetUniformLocation(program, \"model\")\n",
    "    glUniformMatrix4fv(loc_model, 1, GL_TRUE, mat_transform)\n",
    "    \n",
    "    #### define parametros de iluminacao do modelo\n",
    "    ka = 0.7 * ka_control # coeficiente de reflexao ambiente do modelo\n",
    "    kd = 0.2 * kd_control # coeficiente de reflexao difusa do modelo\n",
    "    ks = 1.0 # coeficiente de reflexao especular do modelo\n",
    "    ns = 1000.0 # expoente de reflexao especular\n",
    "    \n",
    "    loc_ka = glGetUniformLocation(program, \"ka\") # recuperando localizacao da variavel ka na GPU\n",
    "    glUniform1f(loc_ka, ka) ### envia ka pra gpu\n",
    "    loc_kd = glGetUniformLocation(program, \"kd\") # recuperando localizacao da variavel kd na GPU\n",
    "    glUniform1f(loc_kd, kd) ### envia kd pra gpu    \n",
    "    loc_ks = glGetUniformLocation(program, \"ks\") # recuperando localizacao da variavel ks na GPU\n",
    "    glUniform1f(loc_ks, ks) ### envia ks pra gpu        \n",
    "    loc_ns = glGetUniformLocation(program, \"ns\") # recuperando localizacao da variavel ns na GPU\n",
    "    glUniform1f(loc_ns, ns) ### envia ns pra gpu \n",
    "    loc_ns = glGetUniformLocation(program, \"ki\") # recuperando localizacao da variavel ns na GPU\n",
    "    glUniform1f(loc_ns, ki) ### envia ns pra gpu\n",
    "    loc_ns = glGetUniformLocation(program, \"ke\") # recuperando localizacao da variavel ns na GPU\n",
    "    glUniform1f(loc_ns, ke) ### envia ns pra gpu\n",
    "\n",
    "    # Escamas\n",
    "    glBindTexture(GL_TEXTURE_2D, 17)\n",
    "    glDrawArrays(GL_TRIANGLES, 314778, 319380-314778) ## renderizando\n",
    "    \n",
    "    # Resto\n",
    "    glBindTexture(GL_TEXTURE_2D, 10)\n",
    "    glDrawArrays(GL_TRIANGLES, 319380, 320298-319380) ## renderizando\n",
    "    \n",
    "    # Escamas\n",
    "    glBindTexture(GL_TEXTURE_2D, 17)\n",
    "    glDrawArrays(GL_TRIANGLES, 320298, 321366-320298) ## renderizando"
   ]
  },
  {
   "cell_type": "code",
   "execution_count": 39,
   "metadata": {},
   "outputs": [],
   "source": [
    "def desenha_bodes(theta):    \n",
    "    # orbita\n",
    "    \n",
    "    # Para a transformação do dragão fazemos uma translação do objeto pelos limites de um círculo, usando as coordenadas\n",
    "    #  x e y como cosseno e seno do ângulo theta que incrementa, respectivamente, e fazemos uma rotação do objeto pelo\n",
    "    #  próprio eixo, para mantê-lo orientado para a origem do círculo.\n",
    "    \n",
    "    angle = math.radians(theta)\n",
    "    x = np.cos(angle)*50\n",
    "    y = np.sin(angle)*50\n",
    "    mat_transform = glm.mat4(1.0) # instanciando uma matriz identidade\n",
    "    mat_transform = glm.translate(mat_transform, glm.vec3(x, 12, y))\n",
    "    mat_transform = glm.rotate(mat_transform, -angle, glm.vec3(0, 1, 0))\n",
    "    mat_transform = np.array(mat_transform).T # pegando a transposta da matriz (glm trabalha com ela invertida)\n",
    "\n",
    "    loc_model = glGetUniformLocation(program, \"model\")\n",
    "    glUniformMatrix4fv(loc_model, 1, GL_TRUE, mat_transform)\n",
    "    \n",
    "    #### define parametros de iluminacao do modelo\n",
    "    ka = 0.7 * ka_control # coeficiente de reflexao ambiente do modelo\n",
    "    kd = 0.2 * kd_control # coeficiente de reflexao difusa do modelo\n",
    "    ks = 0.3 # coeficiente de reflexao especular do modelo\n",
    "    ns = 64.0 # expoente de reflexao especular\n",
    "    \n",
    "    loc_ka = glGetUniformLocation(program, \"ka\") # recuperando localizacao da variavel ka na GPU\n",
    "    glUniform1f(loc_ka, ka) ### envia ka pra gpu\n",
    "    loc_kd = glGetUniformLocation(program, \"kd\") # recuperando localizacao da variavel kd na GPU\n",
    "    glUniform1f(loc_kd, kd) ### envia kd pra gpu    \n",
    "    loc_ks = glGetUniformLocation(program, \"ks\") # recuperando localizacao da variavel ks na GPU\n",
    "    glUniform1f(loc_ks, ks) ### envia ks pra gpu        \n",
    "    loc_ns = glGetUniformLocation(program, \"ns\") # recuperando localizacao da variavel ns na GPU\n",
    "    glUniform1f(loc_ns, ns) ### envia ns pra gpu \n",
    "    loc_ns = glGetUniformLocation(program, \"ki\") # recuperando localizacao da variavel ns na GPU\n",
    "    glUniform1f(loc_ns, ki) ### envia ns pra gpu\n",
    "    loc_ns = glGetUniformLocation(program, \"ke\") # recuperando localizacao da variavel ns na GPU\n",
    "    glUniform1f(loc_ns, ke) ### envia ns pra gpu\n",
    "    \n",
    "    # Bode pai\n",
    "    glBindTexture(GL_TEXTURE_2D, 18)\n",
    "    glDrawArrays(GL_TRIANGLES, 321366, 321894-321366) ## renderizando\n",
    "    \n",
    "    # Bode filho\n",
    "    glBindTexture(GL_TEXTURE_2D, 19)\n",
    "    glDrawArrays(GL_TRIANGLES, 321894, 322422-321894) ## renderizando\n",
    "    \n",
    "    # Bode mãe\n",
    "    glBindTexture(GL_TEXTURE_2D, 20)\n",
    "    glDrawArrays(GL_TRIANGLES, 322422, 322980-322422) ## renderizando"
   ]
  },
  {
   "cell_type": "code",
   "execution_count": 40,
   "metadata": {},
   "outputs": [],
   "source": [
    "def desenha_sol(theta):    \n",
    "    # orbita\n",
    "    \n",
    "    angle = math.radians(theta)\n",
    "    x = np.cos(angle)*100\n",
    "    y = np.sin(angle)*100\n",
    "    mat_transform = glm.mat4(1.0) # instanciando uma matriz identidade\n",
    "    mat_transform = glm.translate(mat_transform, glm.vec3(0, y, x+110))\n",
    "    #mat_transform = glm.rotate(mat_transform, -angle, glm.vec3(0, 1, 0))\n",
    "    mat_transform = np.array(mat_transform).T # pegando a transposta da matriz (glm trabalha com ela invertida)\n",
    "\n",
    "    loc_model = glGetUniformLocation(program, \"model\")\n",
    "    glUniformMatrix4fv(loc_model, 1, GL_TRUE, mat_transform)\n",
    "    \n",
    "    #### define parametros de iluminacao do modelo\n",
    "    ka = 1 * ka_control # coeficiente de reflexao ambiente do modelo\n",
    "    kd = 1 * kd_control # coeficiente de reflexao difusa do modelo\n",
    "    ks = 1 # coeficiente de reflexao especular do modelo\n",
    "    ns = 512.0 # expoente de reflexao especular\n",
    "    \n",
    "    loc_ka = glGetUniformLocation(program, \"ka\") # recuperando localizacao da variavel ka na GPU\n",
    "    glUniform1f(loc_ka, ka) ### envia ka pra gpu\n",
    "    loc_kd = glGetUniformLocation(program, \"kd\") # recuperando localizacao da variavel kd na GPU\n",
    "    glUniform1f(loc_kd, kd) ### envia kd pra gpu    \n",
    "    loc_ks = glGetUniformLocation(program, \"ks\") # recuperando localizacao da variavel ks na GPU\n",
    "    glUniform1f(loc_ks, ks) ### envia ks pra gpu     \n",
    "    loc_ns = glGetUniformLocation(program, \"ns\") # recuperando localizacao da variavel ns na GPU\n",
    "    glUniform1f(loc_ns, ns) ### envia ns pra gpu\n",
    "    loc_ns = glGetUniformLocation(program, \"ki\") # recuperando localizacao da variavel ns na GPU\n",
    "    glUniform1f(loc_ns, ki) ### envia ns pra gpu\n",
    "    loc_ns = glGetUniformLocation(program, \"ke\") # recuperando localizacao da variavel ns na GPU\n",
    "    glUniform1f(loc_ns, ke) ### envia ns pra gpu\n",
    "    \n",
    "    \n",
    "    loc_light_pos = glGetUniformLocation(program, \"lightPos\") # recuperando localizacao da variavel lightPos na GPU\n",
    "    glUniform3f(loc_light_pos, 0, y, x+110) ### posicao da fonte de luz\n",
    "\n",
    "    # Sol\n",
    "    glBindTexture(GL_TEXTURE_2D, 21)\n",
    "    glDrawArrays(GL_TRIANGLES, 322980, 325860-322980) ## renderizando"
   ]
  },
  {
   "cell_type": "markdown",
   "metadata": {},
   "source": [
    "### Eventos para modificar a posição da câmera.\n",
    "\n",
    "* Usei as teclas A, S, D e W para movimentação no espaço tridimensional\n",
    "* Usei a posição do mouse para \"direcionar\" a câmera"
   ]
  },
  {
   "cell_type": "code",
   "execution_count": 41,
   "metadata": {},
   "outputs": [],
   "source": [
    "cameraPos   = glm.vec3(2.0,  4.0,  -4.9);\n",
    "cameraFront = glm.vec3(0.0,  0.0, -1.0);\n",
    "cameraUp    = glm.vec3(0.0,  1.0,  0.0);\n",
    "\n",
    "ka_control = 0.001\n",
    "kd_control = 1\n",
    "fovy_control = 1\n",
    "aspect_control = 1\n",
    "\n",
    "polygonal_mode = False\n",
    "\n",
    "def key_event(window,key,scancode,action,mods):\n",
    "    global cameraPos, cameraFront, cameraUp, polygonal_mode, ka_control, kd_control, fovy_control\n",
    "    \n",
    "    # Guardamos na variável step as coordenadas da câmera com o acréscimo da movimentação conforme as teclas.\n",
    "    #  Caso a norma do vetor step tenha valor menor que 80 (o raio dos nossos limites de exploração),\n",
    "    #  ou a coordenada de altura for menor do que -2, não movimentamos a câmera,\n",
    "    #  de modo a delimitar a exploração.\n",
    "    cameraSpeed = 0.4\n",
    "    if key == 87 and (action==1 or action==2): # tecla W\n",
    "        step_w = cameraPos + cameraSpeed * cameraFront\n",
    "        if np.linalg.norm(step_w) <= 80 and step_w[1] >= -2:\n",
    "            cameraPos = step_w\n",
    "    \n",
    "    if key == 83 and (action==1 or action==2): # tecla S\n",
    "        step_s = cameraPos - cameraSpeed * cameraFront\n",
    "        if np.linalg.norm(step_s) <= 80 and step_s[1] >= -2:\n",
    "            cameraPos = step_s\n",
    "    \n",
    "    if key == 65 and (action==1 or action==2): # tecla A\n",
    "        step_a = cameraPos - glm.normalize(glm.cross(cameraFront, cameraUp)) * cameraSpeed\n",
    "        if np.linalg.norm(step_a) <= 80 and step_a[1] >= -2:\n",
    "            cameraPos = step_a\n",
    "        \n",
    "    if key == 68 and (action==1 or action==2): # tecla D\n",
    "        step_d = cameraPos + glm.normalize(glm.cross(cameraFront, cameraUp)) * cameraSpeed\n",
    "        if np.linalg.norm(step_d) <= 80 and step_d[1] >= -2:\n",
    "            cameraPos = step_d\n",
    "            \n",
    "    if key == 85 and (action==1 or action==2): #tecla U\n",
    "        ka_control += 0.05\n",
    "        \n",
    "    if key == 80 and (action==1 or action==2): #tecla P\n",
    "        ka_control -= 0.05\n",
    "        \n",
    "    if key == 75 and (action==1 or action==2): #tecla K\n",
    "        kd_control += 0.05\n",
    "        \n",
    "    if key == 76 and (action==1 or action==2): #tecla L\n",
    "        kd_control -= 0.05\n",
    "        \n",
    "    if key == 73 and (action==1 or action==2): #tecla I\n",
    "        fovy_control += 0.05\n",
    "            \n",
    "    if key == 79 and (action==1 or action==2): #tecla O\n",
    "        fovy_control -= 0.05\n",
    "        \n",
    "    if key == 77 and action==1 and polygonal_mode==True: #Tecla M\n",
    "        polygonal_mode=False\n",
    "    else:\n",
    "        if key == 77 and action==1 and polygonal_mode==False:\n",
    "            polygonal_mode=True\n",
    "        \n",
    "firstMouse = True\n",
    "yaw = -90.0 \n",
    "pitch = 0.0\n",
    "lastX =  largura/2\n",
    "lastY =  altura/2\n",
    "\n",
    "def mouse_event(window, xpos, ypos):\n",
    "    global firstMouse, cameraFront, yaw, pitch, lastX, lastY\n",
    "    if firstMouse:\n",
    "        lastX = xpos\n",
    "        lastY = ypos\n",
    "        firstMouse = False\n",
    "\n",
    "    xoffset = xpos - lastX\n",
    "    yoffset = lastY - ypos\n",
    "    lastX = xpos\n",
    "    lastY = ypos\n",
    "\n",
    "    sensitivity = 0.3 \n",
    "    xoffset *= sensitivity\n",
    "    yoffset *= sensitivity\n",
    "\n",
    "    yaw += xoffset;\n",
    "    pitch += yoffset;\n",
    "    \n",
    "    if pitch >= 90.0: pitch = 90.0\n",
    "    if pitch <= -90.0: pitch = -90.0\n",
    "\n",
    "    front = glm.vec3()\n",
    "    front.x = math.cos(glm.radians(yaw)) * math.cos(glm.radians(pitch))\n",
    "    front.y = math.sin(glm.radians(pitch))\n",
    "    front.z = math.sin(glm.radians(yaw)) * math.cos(glm.radians(pitch))\n",
    "    cameraFront = glm.normalize(front)\n",
    "    \n",
    "glfw.set_key_callback(window,key_event)\n",
    "glfw.set_cursor_pos_callback(window, mouse_event)"
   ]
  },
  {
   "cell_type": "markdown",
   "metadata": {},
   "source": [
    "### Matrizes Model, View e Projection\n",
    "\n",
    "Teremos uma aula específica para entender o seu funcionamento."
   ]
  },
  {
   "cell_type": "code",
   "execution_count": 42,
   "metadata": {},
   "outputs": [],
   "source": [
    "fovy_control = 1\n",
    "\n",
    "def model(angle, r_x, r_y, r_z, t_x, t_y, t_z, s_x, s_y, s_z):\n",
    "    \n",
    "    angle = math.radians(angle)\n",
    "    \n",
    "    matrix_transform = glm.mat4(1.0) # instanciando uma matriz identidade\n",
    "\n",
    "    # aplicando translacao\n",
    "    matrix_transform = glm.translate(matrix_transform, glm.vec3(t_x, t_y, t_z))    \n",
    "    \n",
    "    # aplicando rotacao\n",
    "    matrix_transform = glm.rotate(matrix_transform, angle, glm.vec3(r_x, r_y, r_z))\n",
    "    \n",
    "    # aplicando escala\n",
    "    matrix_transform = glm.scale(matrix_transform, glm.vec3(s_x, s_y, s_z))\n",
    "    \n",
    "    matrix_transform = np.array(matrix_transform).T # pegando a transposta da matriz (glm trabalha com ela invertida)\n",
    "    return matrix_transform\n",
    "\n",
    "def view():\n",
    "    global cameraPos, cameraFront, cameraUp\n",
    "    mat_view = glm.lookAt(cameraPos, cameraPos + cameraFront, cameraUp);\n",
    "    mat_view = np.array(mat_view)\n",
    "    return mat_view\n",
    "\n",
    "def projection():\n",
    "    global altura, largura, fovy_control\n",
    "    # perspective parameters: fovy, aspect, near, far\n",
    "    mat_projection = glm.perspective(glm.radians(45.0)*fovy_control, largura/altura, 0.1, 1000.0)\n",
    "    mat_projection = np.array(mat_projection)    \n",
    "    return mat_projection"
   ]
  },
  {
   "cell_type": "markdown",
   "metadata": {},
   "source": [
    "### Nesse momento, nós exibimos a janela!\n"
   ]
  },
  {
   "cell_type": "code",
   "execution_count": 43,
   "metadata": {},
   "outputs": [],
   "source": [
    "glfw.show_window(window)\n",
    "glfw.set_cursor_pos(window, lastX, lastY)"
   ]
  },
  {
   "cell_type": "markdown",
   "metadata": {},
   "source": [
    "### Loop principal da janela.\n",
    "Enquanto a janela não for fechada, esse laço será executado. É neste espaço que trabalhamos com algumas interações com a OpenGL."
   ]
  },
  {
   "cell_type": "code",
   "execution_count": 44,
   "metadata": {},
   "outputs": [],
   "source": [
    "glEnable(GL_DEPTH_TEST) ### importante para 3D\n",
    "\n",
    "theta = 0\n",
    "ka_control = 0.01\n",
    "kd_control = 0.01\n",
    "ki = 0.7\n",
    "ke = 0.7\n",
    "fovy_control = 1\n",
    "while not glfw.window_should_close(window):\n",
    "\n",
    "    glfw.poll_events() \n",
    "    \n",
    "    glClear(GL_COLOR_BUFFER_BIT | GL_DEPTH_BUFFER_BIT)\n",
    "    \n",
    "    glClearColor(1.0, 1.0, 1.0, 1.0)\n",
    "    \n",
    "    if polygonal_mode==True:\n",
    "        glPolygonMode(GL_FRONT_AND_BACK,GL_LINE)\n",
    "    if polygonal_mode==False:\n",
    "        glPolygonMode(GL_FRONT_AND_BACK,GL_FILL)\n",
    "\n",
    "    desenha_igreja()\n",
    "    desenha_chao_interior()\n",
    "    desenha_cavalo()\n",
    "    desenha_argustav()\n",
    "    desenha_caldeirao()\n",
    "    desenha_terreno()\n",
    "    desenha_skybox()\n",
    "    desenha_dragao1()\n",
    "\n",
    "    theta += 0.15\n",
    "    \n",
    "    desenha_dragao2(theta)\n",
    "    desenha_bodes(theta)\n",
    "    desenha_sol(theta)\n",
    "      \n",
    "    mat_view = view()\n",
    "    loc_view = glGetUniformLocation(program, \"view\")\n",
    "    glUniformMatrix4fv(loc_view, 1, GL_FALSE, mat_view)\n",
    "\n",
    "    mat_projection = projection()\n",
    "    loc_projection = glGetUniformLocation(program, \"projection\")\n",
    "    glUniformMatrix4fv(loc_projection, 1, GL_FALSE, mat_projection) \n",
    "    \n",
    "    # atualizando a posicao da camera/observador na GPU para calculo da reflexao especular\n",
    "    loc_view_pos = glGetUniformLocation(program, \"viewPos\") # recuperando localizacao da variavel viewPos na GPU\n",
    "    glUniform3f(loc_view_pos, cameraPos[0], cameraPos[1], cameraPos[2]) ### posicao da camera/observador (x,y,z)\n",
    "\n",
    "    glfw.swap_buffers(window)\n",
    "\n",
    "glfw.terminate()"
   ]
  }
 ],
 "metadata": {
  "finalized": {
   "timestamp": 1589232864147,
   "trusted": true
  },
  "kernelspec": {
   "display_name": "Python 3 (ipykernel)",
   "language": "python",
   "name": "python3"
  },
  "language_info": {
   "codemirror_mode": {
    "name": "ipython",
    "version": 3
   },
   "file_extension": ".py",
   "mimetype": "text/x-python",
   "name": "python",
   "nbconvert_exporter": "python",
   "pygments_lexer": "ipython3",
   "version": "3.8.8"
  }
 },
 "nbformat": 4,
 "nbformat_minor": 2
}
